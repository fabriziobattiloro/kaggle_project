{
 "cells": [
  {
   "cell_type": "code",
   "execution_count": 1,
   "id": "b6f7a9b1",
   "metadata": {
    "_cell_guid": "b1076dfc-b9ad-4769-8c92-a6c4dae69d19",
    "_uuid": "8f2839f25d086af736a60e9eeb907d3b93b6e0e5",
    "execution": {
     "iopub.execute_input": "2023-06-15T14:01:27.428691Z",
     "iopub.status.busy": "2023-06-15T14:01:27.427991Z",
     "iopub.status.idle": "2023-06-15T14:01:39.774837Z",
     "shell.execute_reply": "2023-06-15T14:01:39.773564Z"
    },
    "papermill": {
     "duration": 12.354277,
     "end_time": "2023-06-15T14:01:39.777798",
     "exception": false,
     "start_time": "2023-06-15T14:01:27.423521",
     "status": "completed"
    },
    "tags": []
   },
   "outputs": [
    {
     "name": "stdout",
     "output_type": "stream",
     "text": [
      "Requirement already satisfied: tensorboardX in /opt/conda/lib/python3.10/site-packages (2.6)\r\n",
      "Requirement already satisfied: packaging in /opt/conda/lib/python3.10/site-packages (from tensorboardX) (21.3)\r\n",
      "Requirement already satisfied: numpy in /opt/conda/lib/python3.10/site-packages (from tensorboardX) (1.23.5)\r\n",
      "Requirement already satisfied: protobuf<4,>=3.8.0 in /opt/conda/lib/python3.10/site-packages (from tensorboardX) (3.20.3)\r\n",
      "Requirement already satisfied: pyparsing!=3.0.5,>=2.0.2 in /opt/conda/lib/python3.10/site-packages (from packaging->tensorboardX) (3.0.9)\r\n",
      "\u001b[33mWARNING: Running pip as the 'root' user can result in broken permissions and conflicting behaviour with the system package manager. It is recommended to use a virtual environment instead: https://pip.pypa.io/warnings/venv\u001b[0m\u001b[33m\r\n",
      "\u001b[0m"
     ]
    }
   ],
   "source": [
    "! pip install tensorboardX"
   ]
  },
  {
   "cell_type": "code",
   "execution_count": 2,
   "id": "20cd339e",
   "metadata": {
    "execution": {
     "iopub.execute_input": "2023-06-15T14:01:39.786025Z",
     "iopub.status.busy": "2023-06-15T14:01:39.785702Z",
     "iopub.status.idle": "2023-06-15T14:01:39.791076Z",
     "shell.execute_reply": "2023-06-15T14:01:39.790148Z"
    },
    "papermill": {
     "duration": 0.011908,
     "end_time": "2023-06-15T14:01:39.793211",
     "exception": false,
     "start_time": "2023-06-15T14:01:39.781303",
     "status": "completed"
    },
    "tags": []
   },
   "outputs": [],
   "source": [
    "import os\n",
    "os.chdir(\"/kaggle/input/project-code\")"
   ]
  },
  {
   "cell_type": "code",
   "execution_count": 3,
   "id": "fc9af7df",
   "metadata": {
    "execution": {
     "iopub.execute_input": "2023-06-15T14:01:39.800176Z",
     "iopub.status.busy": "2023-06-15T14:01:39.799488Z",
     "iopub.status.idle": "2023-06-15T14:01:39.803600Z",
     "shell.execute_reply": "2023-06-15T14:01:39.802451Z"
    },
    "papermill": {
     "duration": 0.013048,
     "end_time": "2023-06-15T14:01:39.809013",
     "exception": false,
     "start_time": "2023-06-15T14:01:39.795965",
     "status": "completed"
    },
    "tags": []
   },
   "outputs": [],
   "source": [
    "#import shutil\n",
    "#directory_path = '/kaggle/working/project-code1'\n",
    "#shutil.rmtree(directory_path)"
   ]
  },
  {
   "cell_type": "code",
   "execution_count": 4,
   "id": "e959f932",
   "metadata": {
    "execution": {
     "iopub.execute_input": "2023-06-15T14:01:39.816486Z",
     "iopub.status.busy": "2023-06-15T14:01:39.815663Z",
     "iopub.status.idle": "2023-06-15T14:01:41.520671Z",
     "shell.execute_reply": "2023-06-15T14:01:41.519546Z"
    },
    "papermill": {
     "duration": 1.711037,
     "end_time": "2023-06-15T14:01:41.523096",
     "exception": false,
     "start_time": "2023-06-15T14:01:39.812059",
     "status": "completed"
    },
    "tags": []
   },
   "outputs": [
    {
     "name": "stdout",
     "output_type": "stream",
     "text": [
      "Cloning into '/kaggle/working/project-code1'...\r\n",
      "remote: Enumerating objects: 2297, done.\u001b[K\r\n",
      "remote: Counting objects: 100% (676/676), done.\u001b[K\r\n",
      "remote: Compressing objects: 100% (345/345), done.\u001b[K\r\n",
      "remote: Total 2297 (delta 423), reused 555 (delta 331), pack-reused 1621\u001b[K\r\n",
      "Receiving objects: 100% (2297/2297), 450.85 KiB | 7.04 MiB/s, done.\r\n",
      "Resolving deltas: 100% (1384/1384), done.\r\n"
     ]
    }
   ],
   "source": [
    "! git clone -b dev_fabrizio https://github.com/fabriziobattiloro/kaggle_project.git /kaggle/working/project-code1"
   ]
  },
  {
   "cell_type": "code",
   "execution_count": 5,
   "id": "dd7a5790",
   "metadata": {
    "execution": {
     "iopub.execute_input": "2023-06-15T14:01:41.531604Z",
     "iopub.status.busy": "2023-06-15T14:01:41.531264Z",
     "iopub.status.idle": "2023-06-15T14:01:52.648208Z",
     "shell.execute_reply": "2023-06-15T14:01:52.647014Z"
    },
    "papermill": {
     "duration": 11.123987,
     "end_time": "2023-06-15T14:01:52.650647",
     "exception": false,
     "start_time": "2023-06-15T14:01:41.526660",
     "status": "completed"
    },
    "tags": []
   },
   "outputs": [
    {
     "name": "stdout",
     "output_type": "stream",
     "text": [
      "Collecting thop\r\n",
      "  Downloading thop-0.1.1.post2209072238-py3-none-any.whl (15 kB)\r\n",
      "Requirement already satisfied: torch in /opt/conda/lib/python3.10/site-packages (from thop) (2.0.0)\r\n",
      "Requirement already satisfied: jinja2 in /opt/conda/lib/python3.10/site-packages (from torch->thop) (3.1.2)\r\n",
      "Requirement already satisfied: sympy in /opt/conda/lib/python3.10/site-packages (from torch->thop) (1.11.1)\r\n",
      "Requirement already satisfied: filelock in /opt/conda/lib/python3.10/site-packages (from torch->thop) (3.11.0)\r\n",
      "Requirement already satisfied: networkx in /opt/conda/lib/python3.10/site-packages (from torch->thop) (3.1)\r\n",
      "Requirement already satisfied: typing-extensions in /opt/conda/lib/python3.10/site-packages (from torch->thop) (4.5.0)\r\n",
      "Requirement already satisfied: MarkupSafe>=2.0 in /opt/conda/lib/python3.10/site-packages (from jinja2->torch->thop) (2.1.2)\r\n",
      "Requirement already satisfied: mpmath>=0.19 in /opt/conda/lib/python3.10/site-packages (from sympy->torch->thop) (1.3.0)\r\n",
      "Installing collected packages: thop\r\n",
      "Successfully installed thop-0.1.1.post2209072238\r\n",
      "\u001b[33mWARNING: Running pip as the 'root' user can result in broken permissions and conflicting behaviour with the system package manager. It is recommended to use a virtual environment instead: https://pip.pypa.io/warnings/venv\u001b[0m\u001b[33m\r\n",
      "\u001b[0m"
     ]
    }
   ],
   "source": [
    "!pip install thop"
   ]
  },
  {
   "cell_type": "code",
   "execution_count": 6,
   "id": "954b8a49",
   "metadata": {
    "execution": {
     "iopub.execute_input": "2023-06-15T14:01:52.660372Z",
     "iopub.status.busy": "2023-06-15T14:01:52.660031Z",
     "iopub.status.idle": "2023-06-15T14:02:19.946707Z",
     "shell.execute_reply": "2023-06-15T14:02:19.945492Z"
    },
    "papermill": {
     "duration": 27.294262,
     "end_time": "2023-06-15T14:02:19.949244",
     "exception": false,
     "start_time": "2023-06-15T14:01:52.654982",
     "status": "completed"
    },
    "tags": []
   },
   "outputs": [
    {
     "name": "stdout",
     "output_type": "stream",
     "text": [
      "/opt/conda/lib/python3.10/site-packages/geopandas/_compat.py:123: UserWarning: The Shapely GEOS version (3.10.3-CAPI-1.16.1) is incompatible with the GEOS version PyGEOS was compiled with (3.10.4-CAPI-1.16.2). Conversions between both will be slow.\r\n",
      "  warnings.warn(\r\n",
      "/opt/conda/lib/python3.10/site-packages/torch/utils/data/dataloader.py:561: UserWarning: This DataLoader will create 16 worker processes in total. Our suggested max number of worker in current system is 2, which is smaller than what this DataLoader is going to create. Please be aware that excessive worker creation might get DataLoader running slow or even freeze, lower the worker number to avoid potential slowness/freeze if necessary.\r\n",
      "  warnings.warn(_create_warning_msg(\r\n",
      "/kaggle/working/project-code1/multiclass/train_BiSeNet_multiclass2.py:101: UserWarning: volatile was removed and now has no effect. Use `with torch.no_grad():` instead.\r\n",
      "  inputs = Variable(inputs, volatile=True).cuda()\r\n",
      "/kaggle/working/project-code1/multiclass/train_BiSeNet_multiclass2.py:102: UserWarning: volatile was removed and now has no effect. Use `with torch.no_grad():` instead.\r\n",
      "  labels = Variable(labels, volatile=True).cuda()\r\n",
      "Traceback (most recent call last):\r\n",
      "  File \"/kaggle/working/project-code1/multiclass/train_BiSeNet_multiclass2.py\", line 140, in <module>\r\n",
      "    main()\r\n",
      "  File \"/kaggle/working/project-code1/multiclass/train_BiSeNet_multiclass2.py\", line 56, in main\r\n",
      "    validate(val_loader, net, criterion, optimizer, -1, restore_transform)\r\n",
      "  File \"/kaggle/working/project-code1/multiclass/train_BiSeNet_multiclass2.py\", line 106, in validate\r\n",
      "    max_value, predicted = torch.max(outputs.data, 1)  \r\n",
      "AttributeError: 'tuple' object has no attribute 'data'\r\n"
     ]
    }
   ],
   "source": [
    "import os\n",
    "os.chdir(\"/kaggle/working/\")\n",
    "\n",
    "!python /kaggle/working/project-code1/multiclass/train_BiSeNet_multiclass2.py"
   ]
  },
  {
   "cell_type": "code",
   "execution_count": null,
   "id": "c9b79207",
   "metadata": {
    "papermill": {
     "duration": 0.004365,
     "end_time": "2023-06-15T14:02:19.958790",
     "exception": false,
     "start_time": "2023-06-15T14:02:19.954425",
     "status": "completed"
    },
    "tags": []
   },
   "outputs": [],
   "source": []
  }
 ],
 "metadata": {
  "kernelspec": {
   "display_name": "Python 3",
   "language": "python",
   "name": "python3"
  },
  "language_info": {
   "codemirror_mode": {
    "name": "ipython",
    "version": 3
   },
   "file_extension": ".py",
   "mimetype": "text/x-python",
   "name": "python",
   "nbconvert_exporter": "python",
   "pygments_lexer": "ipython3",
   "version": "3.10.10"
  },
  "papermill": {
   "default_parameters": {},
   "duration": 63.825692,
   "end_time": "2023-06-15T14:02:20.582422",
   "environment_variables": {},
   "exception": null,
   "input_path": "__notebook__.ipynb",
   "output_path": "__notebook__.ipynb",
   "parameters": {},
   "start_time": "2023-06-15T14:01:16.756730",
   "version": "2.4.0"
  }
 },
 "nbformat": 4,
 "nbformat_minor": 5
}
